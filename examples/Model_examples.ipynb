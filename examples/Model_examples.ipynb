{
 "metadata": {
  "name": "Model_examples"
 },
 "nbformat": 3,
 "nbformat_minor": 0,
 "worksheets": [
  {
   "cells": [
    {
     "cell_type": "code",
     "collapsed": false,
     "input": [
      "from boole import *\n",
      "from boole.elab.prelude import *\n",
      "from boole.semantics.value import *\n",
      "from boole.elab.terms import *"
     ],
     "language": "python",
     "metadata": {},
     "outputs": [],
     "prompt_number": 4
    },
    {
     "cell_type": "code",
     "collapsed": false,
     "input": [
      "x, y, z = Int('x, y, z')\n",
      "print x + y\n",
      "t = x + y\n",
      "print elab(t)\n",
      "    "
     ],
     "language": "python",
     "metadata": {},
     "outputs": [
      {
       "output_type": "stream",
       "stream": "stdout",
       "text": [
        "(x + y)\n",
        "(x + y)\n"
       ]
      }
     ],
     "prompt_number": 5
    },
    {
     "cell_type": "code",
     "collapsed": false,
     "input": [
      "M = Model({}, {'x' : Value(5), 'y' : Value(2)})\n",
      "eval_expr(elab(x + y), M)"
     ],
     "language": "python",
     "metadata": {},
     "outputs": [
      {
       "output_type": "pyout",
       "prompt_number": 10,
       "text": [
        "7"
       ]
      }
     ],
     "prompt_number": 10
    },
    {
     "cell_type": "code",
     "collapsed": false,
     "input": [
      "eval_expr(elab(t), M)"
     ],
     "language": "python",
     "metadata": {},
     "outputs": [
      {
       "output_type": "pyout",
       "prompt_number": 11,
       "text": [
        "7"
       ]
      }
     ],
     "prompt_number": 11
    },
    {
     "cell_type": "code",
     "collapsed": false,
     "input": [
      "eval_expr(elab(t), M)"
     ],
     "language": "python",
     "metadata": {},
     "outputs": [
      {
       "output_type": "pyout",
       "prompt_number": 12,
       "text": [
        "7"
       ]
      }
     ],
     "prompt_number": 12
    },
    {
     "cell_type": "code",
     "collapsed": false,
     "input": [
      "local_ctxt.show()"
     ],
     "language": "python",
     "metadata": {},
     "outputs": [
      {
       "output_type": "stream",
       "stream": "stdout",
       "text": [
        "decls:\n",
        "\n",
        "  Div_int : Div(\u001b[32mInt\u001b[m, divide_int)\n",
        "  Le : \u001b[35m\u03a0\u001b[m([X, pred], \u001b[32mBool\u001b[m)\n",
        "  false : \u001b[32mBool\u001b[m\n",
        "  Minus_real : Minus(\u001b[32mReal\u001b[m, minus_real)\n",
        "  divide_int : (\u001b[32mInt\u001b[m) \u2192 (\u001b[32mInt\u001b[m) \u2192 \u001b[32mInt\u001b[m\n",
        "  Add_int : Add(\u001b[32mInt\u001b[m, add_int)\n",
        "  Mul_int : Mul(\u001b[32mInt\u001b[m, mul_int)\n",
        "  <= : \u001b[35m\u03a0\u001b[m([X, pred, le_ev], (X) \u2192 (X) \u2192 \u001b[32mBool\u001b[m)\n",
        "  Lt_real : Lt(\u001b[32mReal\u001b[m, lt_real)\n",
        "  uminus_real : (\u001b[32mReal\u001b[m) \u2192 \u001b[32mReal\u001b[m\n",
        "  Add : \u001b[35m\u03a0\u001b[m([X, op], \u001b[32mBool\u001b[m)\n",
        "  Abs : \u001b[35m\u03a0\u001b[m([X, uop], \u001b[32mBool\u001b[m)\n",
        "  lt_int : (\u001b[32mInt\u001b[m) \u2192 (\u001b[32mInt\u001b[m) \u2192 \u001b[32mBool\u001b[m\n",
        "  abs_int : (\u001b[32mInt\u001b[m) \u2192 \u001b[32mInt\u001b[m\n",
        "  le_int : (\u001b[32mInt\u001b[m) \u2192 (\u001b[32mInt\u001b[m) \u2192 \u001b[32mBool\u001b[m\n",
        "  Mul : \u001b[35m\u03a0\u001b[m([X, op], \u001b[32mBool\u001b[m)\n",
        "  uminus_int : (\u001b[32mInt\u001b[m) \u2192 \u001b[32mInt\u001b[m\n",
        "  divide_real : (\u001b[32mReal\u001b[m) \u2192 (\u001b[32mReal\u001b[m) \u2192 \u001b[32mReal\u001b[m\n",
        "  Abs_real : Abs(\u001b[32mReal\u001b[m, abs_real)\n",
        "  Real : \u001b[32mType\u001b[m\n",
        "  minus_int : (\u001b[32mInt\u001b[m) \u2192 (\u001b[32mInt\u001b[m) \u2192 \u001b[32mInt\u001b[m\n",
        "  % : (\u001b[32mInt\u001b[m) \u2192 (\u001b[32mInt\u001b[m) \u2192 \u001b[32mInt\u001b[m\n",
        "  le_real : (\u001b[32mReal\u001b[m) \u2192 (\u001b[32mReal\u001b[m) \u2192 \u001b[32mBool\u001b[m\n",
        "  + : \u001b[35m\u03a0\u001b[m([X, op, add_ev], (X) \u2192 (X) \u2192 X)\n",
        "  * : \u001b[35m\u03a0\u001b[m([X, op, mul_ev], (X) \u2192 (X) \u2192 X)\n",
        "  - : \u001b[35m\u03a0\u001b[m([X, op, minus_ev], (X) \u2192 (X) \u2192 X)\n",
        "  int_sub_real : \u001b[32mInt\u001b[m \u2264 \u001b[32mReal\u001b[m\n",
        "  / : \u001b[35m\u03a0\u001b[m([X, op, div_ev], (X) \u2192 (X) \u2192 X)\n",
        "  Or : (\u001b[32mBool\u001b[m) \u2192 (\u001b[32mBool\u001b[m) \u2192 \u001b[32mBool\u001b[m\n",
        "  Uminus : \u001b[35m\u03a0\u001b[m([X, uop], \u001b[32mBool\u001b[m)\n",
        "  abs : \u001b[35m\u03a0\u001b[m([X, uop, abs_ev], (X) \u2192 X)\n",
        "  Lt_int : Lt(\u001b[32mInt\u001b[m, lt_int)\n",
        "  Abs_int : Abs(\u001b[32mInt\u001b[m, abs_int)\n",
        "  Not : (\u001b[32mBool\u001b[m) \u2192 \u001b[32mBool\u001b[m\n",
        "  < : \u001b[35m\u03a0\u001b[m([X, pred, lt_ev], (X) \u2192 (X) \u2192 \u001b[32mBool\u001b[m)\n",
        "  Div_real : Div(\u001b[32mReal\u001b[m, divide_real)\n",
        "  Minus_int : Minus(\u001b[32mInt\u001b[m, minus_int)\n",
        "  Le_real : Le(\u001b[32mReal\u001b[m, lt_real)\n",
        "  == : \u001b[35m\u03a0\u001b[m(X, (X) \u2192 (X) \u2192 \u001b[32mBool\u001b[m)\n",
        "  Uminus_int : Uminus(\u001b[32mInt\u001b[m, uminus_int)\n",
        "  uminus : \u001b[35m\u03a0\u001b[m([X, uop, uminus_ev], (X) \u2192 X)\n",
        "  ** : (\u001b[32mReal\u001b[m) \u2192 (\u001b[32mReal\u001b[m) \u2192 \u001b[32mReal\u001b[m\n",
        "  add_real : (\u001b[32mReal\u001b[m) \u2192 (\u001b[32mReal\u001b[m) \u2192 \u001b[32mReal\u001b[m\n",
        "  X : \u001b[32mType\u001b[m\n",
        "  Div : \u001b[35m\u03a0\u001b[m([X, op], \u001b[32mBool\u001b[m)\n",
        "  true : \u001b[32mBool\u001b[m\n",
        "  Minus : \u001b[35m\u03a0\u001b[m([X, op], \u001b[32mBool\u001b[m)\n",
        "  And : (\u001b[32mBool\u001b[m) \u2192 (\u001b[32mBool\u001b[m) \u2192 \u001b[32mBool\u001b[m\n",
        "  Uminus_real : Uminus(\u001b[32mReal\u001b[m, uminus_real)\n",
        "  implies : (\u001b[32mBool\u001b[m) \u2192 (\u001b[32mBool\u001b[m) \u2192 \u001b[32mBool\u001b[m\n",
        "  minus_real : (\u001b[32mReal\u001b[m) \u2192 (\u001b[32mReal\u001b[m) \u2192 \u001b[32mReal\u001b[m\n",
        "  Int : \u001b[32mType\u001b[m\n",
        "  Lt : \u001b[35m\u03a0\u001b[m([X, pred], \u001b[32mBool\u001b[m)\n",
        "  lt_real : (\u001b[32mReal\u001b[m) \u2192 (\u001b[32mReal\u001b[m) \u2192 \u001b[32mBool\u001b[m\n",
        "  add_int : (\u001b[32mInt\u001b[m) \u2192 (\u001b[32mInt\u001b[m) \u2192 \u001b[32mInt\u001b[m\n",
        "  mul_int : (\u001b[32mInt\u001b[m) \u2192 (\u001b[32mInt\u001b[m) \u2192 \u001b[32mInt\u001b[m\n",
        "  Mul_real : Mul(\u001b[32mReal\u001b[m, mul_real)\n",
        "  Add_real : Add(\u001b[32mReal\u001b[m, add_real)\n",
        "  Le_int : Le(\u001b[32mInt\u001b[m, le_int)\n",
        "  mul_real : (\u001b[32mReal\u001b[m) \u2192 (\u001b[32mReal\u001b[m) \u2192 \u001b[32mReal\u001b[m\n",
        "  abs_real : (\u001b[32mReal\u001b[m) \u2192 \u001b[32mReal\u001b[m\n",
        "\n",
        "defs:\n",
        "\n",
        "  Div_int : \u001b[36mtriv()\u001b[m\n",
        "  Le : \u001b[35m\u03bb\u001b[m([X, pred], \u001b[36mtrue\u001b[m)\n",
        "  Minus_real : \u001b[36mtriv()\u001b[m\n",
        "  Add_int : \u001b[36mtriv()\u001b[m\n",
        "  <= : \u001b[35m\u03bb\u001b[m([X, pred, le_ev], pred)\n",
        "  Lt_real : \u001b[36mtriv()\u001b[m\n",
        "  Lt : \u001b[35m\u03bb\u001b[m([X, pred], \u001b[36mtrue\u001b[m)\n",
        "  Mul_int : \u001b[36mtriv()\u001b[m\n",
        "  Mul : \u001b[35m\u03bb\u001b[m([X, op], \u001b[36mtrue\u001b[m)\n",
        "  Mul_real : \u001b[36mtriv()\u001b[m\n",
        "  Abs_real : \u001b[36mtriv()\u001b[m\n",
        "  Uminus_real : \u001b[36mtriv()\u001b[m\n",
        "  + : \u001b[35m\u03bb\u001b[m([X, op, add_ev], op)\n",
        "  * : \u001b[35m\u03bb\u001b[m([X, op, mul_ev], op)\n",
        "  - : \u001b[35m\u03bb\u001b[m([X, op, minus_ev], op)\n",
        "  / : \u001b[35m\u03bb\u001b[m([X, op, div_ev], op)\n",
        "  Uminus : \u001b[35m\u03bb\u001b[m([X, uop], \u001b[36mtrue\u001b[m)\n",
        "  abs : \u001b[35m\u03bb\u001b[m([X, uop, abs_ev], uop)\n",
        "  Lt_int : \u001b[36mtriv()\u001b[m\n",
        "  Abs_int : \u001b[36mtriv()\u001b[m\n",
        "  < : \u001b[35m\u03bb\u001b[m([X, pred, lt_ev], pred)\n",
        "  Div_real : \u001b[36mtriv()\u001b[m\n",
        "  Minus_int : \u001b[36mtriv()\u001b[m\n",
        "  Le_real : \u001b[36mtriv()\u001b[m\n",
        "  == : \u001b[35m\u03bb\u001b[m([X, x, y], \u001b[35mAnd\u001b[m(Sub(x, y), Sub(y, x)))\n",
        "  Uminus_int : \u001b[36mtriv()\u001b[m\n",
        "  uminus : \u001b[35m\u03bb\u001b[m([X, uop, uminus_ev], uop)\n",
        "  Div : \u001b[35m\u03bb\u001b[m([X, op], \u001b[36mtrue\u001b[m)\n",
        "  Minus : \u001b[35m\u03bb\u001b[m([X, op], \u001b[36mtrue\u001b[m)\n",
        "  implies : \u001b[35m\u03bb\u001b[m([p, q], Sub(p, q))\n",
        "  Add : \u001b[35m\u03bb\u001b[m([X, op], \u001b[36mtrue\u001b[m)\n",
        "  Abs : \u001b[35m\u03bb\u001b[m([X, uop], \u001b[36mtrue\u001b[m)\n",
        "  Add_real : \u001b[36mtriv()\u001b[m\n",
        "  Le_int : \u001b[36mtriv()\u001b[m\n",
        "\n",
        "hyps:\n",
        "\n",
        "  Div_real : Div(\u001b[32mReal\u001b[m, divide_real)\n",
        "  Div_int : Div(\u001b[32mInt\u001b[m, divide_int)\n",
        "  Minus_int : Minus(\u001b[32mInt\u001b[m, minus_int)\n",
        "  Minus_real : Minus(\u001b[32mReal\u001b[m, minus_real)\n",
        "  Le_real : Le(\u001b[32mReal\u001b[m, lt_real)\n",
        "  Add_int : Add(\u001b[32mInt\u001b[m, add_int)\n",
        "  Uminus_int : Uminus(\u001b[32mInt\u001b[m, uminus_int)\n",
        "  Lt_real : Lt(\u001b[32mReal\u001b[m, lt_real)\n",
        "  Uminus_real : Uminus(\u001b[32mReal\u001b[m, uminus_real)\n",
        "  int_sub_real : \u001b[32mInt\u001b[m \u2264 \u001b[32mReal\u001b[m\n",
        "  Lt_int : Lt(\u001b[32mInt\u001b[m, lt_int)\n",
        "  Abs_int : Abs(\u001b[32mInt\u001b[m, abs_int)\n",
        "  Add_real : Add(\u001b[32mReal\u001b[m, add_real)\n",
        "  Le_int : Le(\u001b[32mInt\u001b[m, le_int)\n",
        "  Mul_int : Mul(\u001b[32mInt\u001b[m, mul_int)\n",
        "  Mul_real : Mul(\u001b[32mReal\u001b[m, mul_real)\n",
        "  Abs_real : Abs(\u001b[32mReal\u001b[m, abs_real)\n",
        "\n"
       ]
      }
     ],
     "prompt_number": 13
    },
    {
     "cell_type": "code",
     "collapsed": false,
     "input": [
      "local_ctxt.show(['decls'])"
     ],
     "language": "python",
     "metadata": {},
     "outputs": [
      {
       "output_type": "stream",
       "stream": "stdout",
       "text": [
        "decls:\n",
        "\n",
        "  Div_int : Div(\u001b[32mInt\u001b[m, divide_int)\n",
        "  Le : \u001b[35m\u03a0\u001b[m([X, pred], \u001b[32mBool\u001b[m)\n",
        "  false : \u001b[32mBool\u001b[m\n",
        "  Minus_real : Minus(\u001b[32mReal\u001b[m, minus_real)\n",
        "  divide_int : (\u001b[32mInt\u001b[m) \u2192 (\u001b[32mInt\u001b[m) \u2192 \u001b[32mInt\u001b[m\n",
        "  Add_int : Add(\u001b[32mInt\u001b[m, add_int)\n",
        "  Mul_int : Mul(\u001b[32mInt\u001b[m, mul_int)\n",
        "  <= : \u001b[35m\u03a0\u001b[m([X, pred, le_ev], (X) \u2192 (X) \u2192 \u001b[32mBool\u001b[m)\n",
        "  Lt_real : Lt(\u001b[32mReal\u001b[m, lt_real)\n",
        "  uminus_real : (\u001b[32mReal\u001b[m) \u2192 \u001b[32mReal\u001b[m\n",
        "  Add : \u001b[35m\u03a0\u001b[m([X, op], \u001b[32mBool\u001b[m)\n",
        "  Abs : \u001b[35m\u03a0\u001b[m([X, uop], \u001b[32mBool\u001b[m)\n",
        "  lt_int : (\u001b[32mInt\u001b[m) \u2192 (\u001b[32mInt\u001b[m) \u2192 \u001b[32mBool\u001b[m\n",
        "  abs_int : (\u001b[32mInt\u001b[m) \u2192 \u001b[32mInt\u001b[m\n",
        "  le_int : (\u001b[32mInt\u001b[m) \u2192 (\u001b[32mInt\u001b[m) \u2192 \u001b[32mBool\u001b[m\n",
        "  Mul : \u001b[35m\u03a0\u001b[m([X, op], \u001b[32mBool\u001b[m)\n",
        "  uminus_int : (\u001b[32mInt\u001b[m) \u2192 \u001b[32mInt\u001b[m\n",
        "  divide_real : (\u001b[32mReal\u001b[m) \u2192 (\u001b[32mReal\u001b[m) \u2192 \u001b[32mReal\u001b[m\n",
        "  Abs_real : Abs(\u001b[32mReal\u001b[m, abs_real)\n",
        "  Real : \u001b[32mType\u001b[m\n",
        "  minus_int : (\u001b[32mInt\u001b[m) \u2192 (\u001b[32mInt\u001b[m) \u2192 \u001b[32mInt\u001b[m\n",
        "  % : (\u001b[32mInt\u001b[m) \u2192 (\u001b[32mInt\u001b[m) \u2192 \u001b[32mInt\u001b[m\n",
        "  le_real : (\u001b[32mReal\u001b[m) \u2192 (\u001b[32mReal\u001b[m) \u2192 \u001b[32mBool\u001b[m\n",
        "  + : \u001b[35m\u03a0\u001b[m([X, op, add_ev], (X) \u2192 (X) \u2192 X)\n",
        "  * : \u001b[35m\u03a0\u001b[m([X, op, mul_ev], (X) \u2192 (X) \u2192 X)\n",
        "  - : \u001b[35m\u03a0\u001b[m([X, op, minus_ev], (X) \u2192 (X) \u2192 X)\n",
        "  int_sub_real : \u001b[32mInt\u001b[m \u2264 \u001b[32mReal\u001b[m\n",
        "  / : \u001b[35m\u03a0\u001b[m([X, op, div_ev], (X) \u2192 (X) \u2192 X)\n",
        "  Or : (\u001b[32mBool\u001b[m) \u2192 (\u001b[32mBool\u001b[m) \u2192 \u001b[32mBool\u001b[m\n",
        "  Uminus : \u001b[35m\u03a0\u001b[m([X, uop], \u001b[32mBool\u001b[m)\n",
        "  abs : \u001b[35m\u03a0\u001b[m([X, uop, abs_ev], (X) \u2192 X)\n",
        "  Lt_int : Lt(\u001b[32mInt\u001b[m, lt_int)\n",
        "  Abs_int : Abs(\u001b[32mInt\u001b[m, abs_int)\n",
        "  Not : (\u001b[32mBool\u001b[m) \u2192 \u001b[32mBool\u001b[m\n",
        "  < : \u001b[35m\u03a0\u001b[m([X, pred, lt_ev], (X) \u2192 (X) \u2192 \u001b[32mBool\u001b[m)\n",
        "  Div_real : Div(\u001b[32mReal\u001b[m, divide_real)\n",
        "  Minus_int : Minus(\u001b[32mInt\u001b[m, minus_int)\n",
        "  Le_real : Le(\u001b[32mReal\u001b[m, lt_real)\n",
        "  == : \u001b[35m\u03a0\u001b[m(X, (X) \u2192 (X) \u2192 \u001b[32mBool\u001b[m)\n",
        "  Uminus_int : Uminus(\u001b[32mInt\u001b[m, uminus_int)\n",
        "  uminus : \u001b[35m\u03a0\u001b[m([X, uop, uminus_ev], (X) \u2192 X)\n",
        "  ** : (\u001b[32mReal\u001b[m) \u2192 (\u001b[32mReal\u001b[m) \u2192 \u001b[32mReal\u001b[m\n",
        "  add_real : (\u001b[32mReal\u001b[m) \u2192 (\u001b[32mReal\u001b[m) \u2192 \u001b[32mReal\u001b[m\n",
        "  X : \u001b[32mType\u001b[m\n",
        "  Div : \u001b[35m\u03a0\u001b[m([X, op], \u001b[32mBool\u001b[m)\n",
        "  true : \u001b[32mBool\u001b[m\n",
        "  Minus : \u001b[35m\u03a0\u001b[m([X, op], \u001b[32mBool\u001b[m)\n",
        "  And : (\u001b[32mBool\u001b[m) \u2192 (\u001b[32mBool\u001b[m) \u2192 \u001b[32mBool\u001b[m\n",
        "  Uminus_real : Uminus(\u001b[32mReal\u001b[m, uminus_real)\n",
        "  implies : (\u001b[32mBool\u001b[m) \u2192 (\u001b[32mBool\u001b[m) \u2192 \u001b[32mBool\u001b[m\n",
        "  minus_real : (\u001b[32mReal\u001b[m) \u2192 (\u001b[32mReal\u001b[m) \u2192 \u001b[32mReal\u001b[m\n",
        "  Int : \u001b[32mType\u001b[m\n",
        "  Lt : \u001b[35m\u03a0\u001b[m([X, pred], \u001b[32mBool\u001b[m)\n",
        "  lt_real : (\u001b[32mReal\u001b[m) \u2192 (\u001b[32mReal\u001b[m) \u2192 \u001b[32mBool\u001b[m\n",
        "  add_int : (\u001b[32mInt\u001b[m) \u2192 (\u001b[32mInt\u001b[m) \u2192 \u001b[32mInt\u001b[m\n",
        "  mul_int : (\u001b[32mInt\u001b[m) \u2192 (\u001b[32mInt\u001b[m) \u2192 \u001b[32mInt\u001b[m\n",
        "  Mul_real : Mul(\u001b[32mReal\u001b[m, mul_real)\n",
        "  Add_real : Add(\u001b[32mReal\u001b[m, add_real)\n",
        "  Le_int : Le(\u001b[32mInt\u001b[m, le_int)\n",
        "  mul_real : (\u001b[32mReal\u001b[m) \u2192 (\u001b[32mReal\u001b[m) \u2192 \u001b[32mReal\u001b[m\n",
        "  abs_real : (\u001b[32mReal\u001b[m) \u2192 \u001b[32mReal\u001b[m\n",
        "\n"
       ]
      }
     ],
     "prompt_number": 14
    },
    {
     "cell_type": "code",
     "collapsed": false,
     "input": [],
     "language": "python",
     "metadata": {},
     "outputs": []
    }
   ],
   "metadata": {}
  }
 ]
}