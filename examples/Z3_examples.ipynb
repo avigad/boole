{
 "metadata": {
  "name": "Z3_examples"
 },
 "nbformat": 3,
 "nbformat_minor": 0,
 "worksheets": [
  {
   "cells": [
    {
     "cell_type": "code",
     "collapsed": false,
     "input": [
      "from boole.elab.prelude import *\n",
      "from boole.interfaces.z3_interface import *"
     ],
     "language": "python",
     "metadata": {},
     "outputs": [],
     "prompt_number": 1
    },
    {
     "cell_type": "code",
     "collapsed": false,
     "input": [
      "Men, (Alex, Bill, Charles)= defenum('Men', ('Alex', 'Bill', 'Charles'))\n",
      "         \n",
      "Likes = (Men >> (Men >> Bool))('Likes')\n",
      "x, y, z = Men('x y z')\n",
      "    \n",
      "s = Z3_Solver()\n",
      "s.add(Likes(x, Bill))\n",
      "print 'Check: ', s.check()\n",
      "print 'Model: ', s.z3_model()"
     ],
     "language": "python",
     "metadata": {},
     "outputs": [
      {
       "output_type": "stream",
       "stream": "stdout",
       "text": [
        "Check:  sat\n",
        "Model:  [x = Alex, Likes = [(Alex, Bill) -> True, else -> True]]\n"
       ]
      }
     ],
     "prompt_number": 2
    },
    {
     "cell_type": "code",
     "collapsed": false,
     "input": [
      "x = Real('x')\n",
      "p = x ** 2 + 1.01\n",
      "q = 0.1 * x ** 3\n",
      "print p\n",
      "print q\n",
      "\n",
      "s = Z3_Solver()\n",
      "s.add(q > p)\n",
      "print 'Check: ', s.check()\n",
      "print 'Model: ', s.z3_model()"
     ],
     "language": "python",
     "metadata": {},
     "outputs": [
      {
       "output_type": "stream",
       "stream": "stdout",
       "text": [
        "((x ** \u001b[33m2\u001b[m) + \u001b[33m1.01\u001b[m)\n",
        "(\u001b[33m0.1\u001b[m \u00d7 (x ** \u001b[33m3\u001b[m))\n",
        "Check:  "
       ]
      },
      {
       "output_type": "stream",
       "stream": "stdout",
       "text": [
        "sat\n",
        "Model:  [x = 11]\n"
       ]
      }
     ],
     "prompt_number": 3
    },
    {
     "cell_type": "code",
     "collapsed": false,
     "input": [
      "Men, (Alec, Bill, Carl, Dave) = \\\n",
      "    defenum('Men', ('Alec', 'Bill', 'Carl', 'Dave'))\n",
      "tall, dark, handsome = (Men >> Int)('tall, dark, handsome')\n",
      "ideal = Men('ideal')\n",
      "x = Men('x')\n",
      "    \n",
      "s = Z3_Solver()\n",
      "s.add(forall(x, Or(tall(x) == 0, tall(x) == 1)))\n",
      "s.add(forall(x, Or(dark(x) == 0, dark(x) == 1)))\n",
      "s.add(forall(x, Or(handsome(x) == 0, handsome(x) == 1)))\n",
      "s.add(tall(Alec) + tall(Bill) + tall(Carl) + tall(Dave) == 3)\n",
      "s.add(dark(Alec) + dark(Bill) + dark(Carl) + dark(Dave) == 2)\n",
      "s.add(handsome(Alec) + handsome(Bill) + handsome(Carl) + handsome(Dave) == 1)\n",
      "s.add(forall(x, Or(tall(x) == 1, dark(x) == 1, handsome(x) == 1)))\n",
      "s.add(dark(Alec) == dark(Dave))   \n",
      "s.add(tall(Bill) == tall(Carl))\n",
      "s.add(tall(Carl) != tall(Dave))\n",
      "s.add(And(tall(ideal) == 1, dark(ideal) == 1, handsome(ideal) == 1))\n",
      "    \n",
      "print 'Check:', s.check()\n",
      "print 'Model: ', s.z3_model()"
     ],
     "language": "python",
     "metadata": {},
     "outputs": [
      {
       "output_type": "stream",
       "stream": "stdout",
       "text": [
        "Check: sat\n",
        "Model:  [ideal = Alec,\n",
        " tall = [Alec -> 1, Bill -> 1, Carl -> 1, else -> 0],\n",
        " dark = [Alec -> 1, Dave -> 1, else -> 0],\n",
        " handsome = [Bill -> 0, Carl -> 0, Dave -> 0, else -> 1]]\n"
       ]
      }
     ],
     "prompt_number": 4
    },
    {
     "cell_type": "code",
     "collapsed": false,
     "input": [
      "local_ctxt.show()"
     ],
     "language": "python",
     "metadata": {},
     "outputs": [
      {
       "output_type": "stream",
       "stream": "stdout",
       "text": [
        "decls:\n",
        "\n",
        "  Div_int : Div(\u001b[32mInt\u001b[m, divide_int)\n",
        "  Le : \u001b[35m\u03a0\u001b[m([X, pred], \u001b[32mBool\u001b[m)\n",
        "  false : \u001b[32mBool\u001b[m\n",
        "  Minus_real : Minus(\u001b[32mReal\u001b[m, minus_real)\n",
        "  divide_int : (\u001b[32mInt\u001b[m) \u2192 (\u001b[32mInt\u001b[m) \u2192 \u001b[32mInt\u001b[m\n",
        "  Add_int : Add(\u001b[32mInt\u001b[m, add_int)\n",
        "  Mul_int : Mul(\u001b[32mInt\u001b[m, mul_int)\n",
        "  <= : \u001b[35m\u03a0\u001b[m([X, pred, le_ev], (X) \u2192 (X) \u2192 \u001b[32mBool\u001b[m)\n",
        "  Lt_real : Lt(\u001b[32mReal\u001b[m, lt_real)\n",
        "  uminus_real : (\u001b[32mReal\u001b[m) \u2192 \u001b[32mReal\u001b[m\n",
        "  Add : \u001b[35m\u03a0\u001b[m([X, op], \u001b[32mBool\u001b[m)\n",
        "  Abs : \u001b[35m\u03a0\u001b[m([X, uop], \u001b[32mBool\u001b[m)\n",
        "  lt_int : (\u001b[32mInt\u001b[m) \u2192 (\u001b[32mInt\u001b[m) \u2192 \u001b[32mBool\u001b[m\n",
        "  abs_int : (\u001b[32mInt\u001b[m) \u2192 \u001b[32mInt\u001b[m\n",
        "  le_int : (\u001b[32mInt\u001b[m) \u2192 (\u001b[32mInt\u001b[m) \u2192 \u001b[32mBool\u001b[m\n",
        "  Mul : \u001b[35m\u03a0\u001b[m([X, op], \u001b[32mBool\u001b[m)\n",
        "  uminus_int : (\u001b[32mInt\u001b[m) \u2192 \u001b[32mInt\u001b[m\n",
        "  divide_real : (\u001b[32mReal\u001b[m) \u2192 (\u001b[32mReal\u001b[m) \u2192 \u001b[32mReal\u001b[m\n",
        "  Abs_real : Abs(\u001b[32mReal\u001b[m, abs_real)\n",
        "  Real : \u001b[32mType\u001b[m\n",
        "  minus_int : (\u001b[32mInt\u001b[m) \u2192 (\u001b[32mInt\u001b[m) \u2192 \u001b[32mInt\u001b[m\n",
        "  % : (\u001b[32mInt\u001b[m) \u2192 (\u001b[32mInt\u001b[m) \u2192 \u001b[32mInt\u001b[m\n",
        "  le_real : (\u001b[32mReal\u001b[m) \u2192 (\u001b[32mReal\u001b[m) \u2192 \u001b[32mBool\u001b[m\n",
        "  + : \u001b[35m\u03a0\u001b[m([X, op, add_ev], (X) \u2192 (X) \u2192 X)\n",
        "  * : \u001b[35m\u03a0\u001b[m([X, op, mul_ev], (X) \u2192 (X) \u2192 X)\n",
        "  - : \u001b[35m\u03a0\u001b[m([X, op, minus_ev], (X) \u2192 (X) \u2192 X)\n",
        "  int_sub_real : \u001b[32mInt\u001b[m \u2264 \u001b[32mReal\u001b[m\n",
        "  / : \u001b[35m\u03a0\u001b[m([X, op, div_ev], (X) \u2192 (X) \u2192 X)\n",
        "  Or : (\u001b[32mBool\u001b[m) \u2192 (\u001b[32mBool\u001b[m) \u2192 \u001b[32mBool\u001b[m\n",
        "  Uminus : \u001b[35m\u03a0\u001b[m([X, uop], \u001b[32mBool\u001b[m)\n",
        "  Dave : Men\n",
        "  abs : \u001b[35m\u03a0\u001b[m([X, uop, abs_ev], (X) \u2192 X)\n",
        "  Lt_int : Lt(\u001b[32mInt\u001b[m, lt_int)\n",
        "  Abs_int : Abs(\u001b[32mInt\u001b[m, abs_int)\n",
        "  Carl : Men\n",
        "  Not : (\u001b[32mBool\u001b[m) \u2192 \u001b[32mBool\u001b[m\n",
        "  < : \u001b[35m\u03a0\u001b[m([X, pred, lt_ev], (X) \u2192 (X) \u2192 \u001b[32mBool\u001b[m)\n",
        "  Div_real : Div(\u001b[32mReal\u001b[m, divide_real)\n",
        "  Minus_int : Minus(\u001b[32mInt\u001b[m, minus_int)\n",
        "  Alex : Men\n",
        "  Le_real : Le(\u001b[32mReal\u001b[m, lt_real)\n",
        "  == : \u001b[35m\u03a0\u001b[m(X, (X) \u2192 (X) \u2192 \u001b[32mBool\u001b[m)\n",
        "  Bill : Men\n",
        "  Uminus_int : Uminus(\u001b[32mInt\u001b[m, uminus_int)\n",
        "  uminus : \u001b[35m\u03a0\u001b[m([X, uop, uminus_ev], (X) \u2192 X)\n",
        "  ** : (\u001b[32mReal\u001b[m) \u2192 (\u001b[32mReal\u001b[m) \u2192 \u001b[32mReal\u001b[m\n",
        "  add_real : (\u001b[32mReal\u001b[m) \u2192 (\u001b[32mReal\u001b[m) \u2192 \u001b[32mReal\u001b[m\n",
        "  X : \u001b[32mType\u001b[m\n",
        "  Div : \u001b[35m\u03a0\u001b[m([X, op], \u001b[32mBool\u001b[m)\n",
        "  true : \u001b[32mBool\u001b[m\n",
        "  Minus : \u001b[35m\u03a0\u001b[m([X, op], \u001b[32mBool\u001b[m)\n",
        "  Alec : Men\n",
        "  And : (\u001b[32mBool\u001b[m) \u2192 (\u001b[32mBool\u001b[m) \u2192 \u001b[32mBool\u001b[m\n",
        "  Uminus_real : Uminus(\u001b[32mReal\u001b[m, uminus_real)\n",
        "  implies : (\u001b[32mBool\u001b[m) \u2192 (\u001b[32mBool\u001b[m) \u2192 \u001b[32mBool\u001b[m\n",
        "  minus_real : (\u001b[32mReal\u001b[m) \u2192 (\u001b[32mReal\u001b[m) \u2192 \u001b[32mReal\u001b[m\n",
        "  Int : \u001b[32mType\u001b[m\n",
        "  Charles : Men\n",
        "  Lt : \u001b[35m\u03a0\u001b[m([X, pred], \u001b[32mBool\u001b[m)\n",
        "  lt_real : (\u001b[32mReal\u001b[m) \u2192 (\u001b[32mReal\u001b[m) \u2192 \u001b[32mBool\u001b[m\n",
        "  add_int : (\u001b[32mInt\u001b[m) \u2192 (\u001b[32mInt\u001b[m) \u2192 \u001b[32mInt\u001b[m\n",
        "  mul_int : (\u001b[32mInt\u001b[m) \u2192 (\u001b[32mInt\u001b[m) \u2192 \u001b[32mInt\u001b[m\n",
        "  Mul_real : Mul(\u001b[32mReal\u001b[m, mul_real)\n",
        "  Men : \u001b[32mType\u001b[m\n",
        "  Add_real : Add(\u001b[32mReal\u001b[m, add_real)\n",
        "  Le_int : Le(\u001b[32mInt\u001b[m, le_int)\n",
        "  mul_real : (\u001b[32mReal\u001b[m) \u2192 (\u001b[32mReal\u001b[m) \u2192 \u001b[32mReal\u001b[m\n",
        "  abs_real : (\u001b[32mReal\u001b[m) \u2192 \u001b[32mReal\u001b[m\n",
        "\n",
        "defs:\n",
        "\n",
        "  Div_int : \u001b[36mtriv()\u001b[m\n",
        "  Le : \u001b[35m\u03bb\u001b[m([X, pred], \u001b[36mtrue\u001b[m)\n",
        "  Minus_real : \u001b[36mtriv()\u001b[m\n",
        "  Add_int : \u001b[36mtriv()\u001b[m\n",
        "  <= : \u001b[35m\u03bb\u001b[m([X, pred, le_ev], pred)\n",
        "  Lt_real : \u001b[36mtriv()\u001b[m\n",
        "  Lt : \u001b[35m\u03bb\u001b[m([X, pred], \u001b[36mtrue\u001b[m)\n",
        "  Mul_int : \u001b[36mtriv()\u001b[m\n",
        "  Mul : \u001b[35m\u03bb\u001b[m([X, op], \u001b[36mtrue\u001b[m)\n",
        "  Mul_real : \u001b[36mtriv()\u001b[m\n",
        "  Abs_real : \u001b[36mtriv()\u001b[m\n",
        "  Uminus_real : \u001b[36mtriv()\u001b[m\n",
        "  + : \u001b[35m\u03bb\u001b[m([X, op, add_ev], op)\n",
        "  * : \u001b[35m\u03bb\u001b[m([X, op, mul_ev], op)\n",
        "  - : \u001b[35m\u03bb\u001b[m([X, op, minus_ev], op)\n",
        "  / : \u001b[35m\u03bb\u001b[m([X, op, div_ev], op)\n",
        "  Uminus : \u001b[35m\u03bb\u001b[m([X, uop], \u001b[36mtrue\u001b[m)\n",
        "  abs : \u001b[35m\u03bb\u001b[m([X, uop, abs_ev], uop)\n",
        "  Lt_int : \u001b[36mtriv()\u001b[m\n",
        "  Abs_int : \u001b[36mtriv()\u001b[m\n",
        "  < : \u001b[35m\u03bb\u001b[m([X, pred, lt_ev], pred)\n",
        "  Div_real : \u001b[36mtriv()\u001b[m\n",
        "  Minus_int : \u001b[36mtriv()\u001b[m\n",
        "  Le_real : \u001b[36mtriv()\u001b[m\n",
        "  == : \u001b[35m\u03bb\u001b[m([X, x, y], \u001b[35mAnd\u001b[m(Sub(x, y), Sub(y, x)))\n",
        "  Uminus_int : \u001b[36mtriv()\u001b[m\n",
        "  uminus : \u001b[35m\u03bb\u001b[m([X, uop, uminus_ev], uop)\n",
        "  Div : \u001b[35m\u03bb\u001b[m([X, op], \u001b[36mtrue\u001b[m)\n",
        "  Minus : \u001b[35m\u03bb\u001b[m([X, op], \u001b[36mtrue\u001b[m)\n",
        "  implies : \u001b[35m\u03bb\u001b[m([p, q], Sub(p, q))\n",
        "  Add : \u001b[35m\u03bb\u001b[m([X, op], \u001b[36mtrue\u001b[m)\n",
        "  Abs : \u001b[35m\u03bb\u001b[m([X, uop], \u001b[36mtrue\u001b[m)\n",
        "  Add_real : \u001b[36mtriv()\u001b[m\n",
        "  Le_int : \u001b[36mtriv()\u001b[m\n",
        "\n",
        "hyps:\n",
        "\n",
        "  Div_real : Div(\u001b[32mReal\u001b[m, divide_real)\n",
        "  Div_int : Div(\u001b[32mInt\u001b[m, divide_int)\n",
        "  Minus_int : Minus(\u001b[32mInt\u001b[m, minus_int)\n",
        "  Minus_real : Minus(\u001b[32mReal\u001b[m, minus_real)\n",
        "  Le_real : Le(\u001b[32mReal\u001b[m, lt_real)\n",
        "  Add_int : Add(\u001b[32mInt\u001b[m, add_int)\n",
        "  Uminus_int : Uminus(\u001b[32mInt\u001b[m, uminus_int)\n",
        "  Lt_real : Lt(\u001b[32mReal\u001b[m, lt_real)\n",
        "  Uminus_real : Uminus(\u001b[32mReal\u001b[m, uminus_real)\n",
        "  int_sub_real : \u001b[32mInt\u001b[m \u2264 \u001b[32mReal\u001b[m\n",
        "  Lt_int : Lt(\u001b[32mInt\u001b[m, lt_int)\n",
        "  Abs_int : Abs(\u001b[32mInt\u001b[m, abs_int)\n",
        "  Add_real : Add(\u001b[32mReal\u001b[m, add_real)\n",
        "  Le_int : Le(\u001b[32mInt\u001b[m, le_int)\n",
        "  Mul_int : Mul(\u001b[32mInt\u001b[m, mul_int)\n",
        "  Mul_real : Mul(\u001b[32mReal\u001b[m, mul_real)\n",
        "  Abs_real : Abs(\u001b[32mReal\u001b[m, abs_real)\n",
        "\n"
       ]
      }
     ],
     "prompt_number": 5
    }
   ],
   "metadata": {}
  }
 ]
}